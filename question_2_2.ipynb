{
 "cells": [
  {
   "cell_type": "code",
   "execution_count": 43,
   "metadata": {},
   "outputs": [],
   "source": [
    "from pyspark.sql import SparkSession\n",
    "from pyspark.sql.functions import from_unixtime, to_date, col, regexp_extract, min, desc, when\n",
    "\n",
    "spark = SparkSession.builder.appName(\"IndieZ-Part2-B\").getOrCreate()"
   ]
  },
  {
   "cell_type": "code",
   "execution_count": 44,
   "metadata": {},
   "outputs": [
    {
     "name": "stdout",
     "output_type": "stream",
     "text": [
      "The number of row in DataFrame: 243144 \n",
      "\n",
      "+------------+--------------------+---------------+---------+-------+\n",
      "|{created_at}|     {campaign_name}|{activity_kind}|{country}|{store}|\n",
      "+------------+--------------------+---------------+---------+-------+\n",
      "|  1719842408|ss_min_NGi_Global...|     ad_revenue|       ru| itunes|\n",
      "|  1719842412|ss_min_NGa_Global...|     ad_revenue|       ru| google|\n",
      "|  1719842421|ss_min_NGa_Global...|     impression|       us| google|\n",
      "|  1719842420|ss_min_NGa_Global...|     ad_revenue|       ru| google|\n",
      "|  1719842422|ss_min_NGi_Global...|     ad_revenue|       ru| itunes|\n",
      "+------------+--------------------+---------------+---------+-------+\n",
      "only showing top 5 rows\n",
      "\n"
     ]
    }
   ],
   "source": [
    "df = spark.read.parquet('data/processing.parquet')\n",
    "print(f'The number of row in DataFrame: {df.count()} \\n')\n",
    "df.show(5)"
   ]
  },
  {
   "cell_type": "markdown",
   "metadata": {},
   "source": [
    "Drop Duplicates"
   ]
  },
  {
   "cell_type": "code",
   "execution_count": 45,
   "metadata": {},
   "outputs": [
    {
     "name": "stdout",
     "output_type": "stream",
     "text": [
      "The number of row after dropping duplicates in DataFrame: 208761\n"
     ]
    }
   ],
   "source": [
    "df = df.dropDuplicates()\n",
    "print(f'The number of row after dropping duplicates in DataFrame: {df.count()}')"
   ]
  },
  {
   "cell_type": "markdown",
   "metadata": {},
   "source": [
    "Rename Column Name (remove '{' & '}')"
   ]
  },
  {
   "cell_type": "code",
   "execution_count": 46,
   "metadata": {},
   "outputs": [
    {
     "name": "stdout",
     "output_type": "stream",
     "text": [
      "+----------+--------------------+-------------+-------+------+\n",
      "|created_at|       campaign_name|activity_kind|country| store|\n",
      "+----------+--------------------+-------------+-------+------+\n",
      "|1719320368|ss_min_NGa_Global...|      session|     ru|google|\n",
      "|1719843448|ss_min_NGa_Global...|   impression|     ru|google|\n",
      "|1719844285|ss_min_NGa_Global...|   impression|     ua|google|\n",
      "|1719844786|unity_NGa_ROAS-Ad...|   ad_revenue|     ru|google|\n",
      "|1719845511|ss_min_NGa_Global...|   impression|     ua|google|\n",
      "+----------+--------------------+-------------+-------+------+\n",
      "only showing top 5 rows\n",
      "\n"
     ]
    }
   ],
   "source": [
    "for column in df.schema.names:\n",
    "   new_column = column.replace('{', '').replace('}','')\n",
    "   df = df.withColumnRenamed(column, new_column)\n",
    "df.show(5)"
   ]
  },
  {
   "cell_type": "markdown",
   "metadata": {},
   "source": [
    "Parsed created_at to date and campaign_name to project_id"
   ]
  },
  {
   "cell_type": "code",
   "execution_count": 47,
   "metadata": {},
   "outputs": [
    {
     "name": "stdout",
     "output_type": "stream",
     "text": [
      "+----------+--------------------+-------------+-------+------+----------+\n",
      "|created_at|       campaign_name|activity_kind|country| store|project_id|\n",
      "+----------+--------------------+-------------+-------+------+----------+\n",
      "|2024-06-25|ss_min_NGa_Global...|      session|     ru|google|       NGa|\n",
      "|2024-07-01|ss_min_NGa_Global...|   impression|     ru|google|       NGa|\n",
      "|2024-07-01|ss_min_NGa_Global...|   impression|     ua|google|       NGa|\n",
      "|2024-07-01|unity_NGa_ROAS-Ad...|   ad_revenue|     ru|google|       NGa|\n",
      "|2024-07-01|ss_min_NGa_Global...|   impression|     ua|google|       NGa|\n",
      "+----------+--------------------+-------------+-------+------+----------+\n",
      "only showing top 5 rows\n",
      "\n"
     ]
    }
   ],
   "source": [
    "pattern = r\"([A-Z]{2}[a-z]{1}+)\"\n",
    "\n",
    "df_processed = df.withColumn('created_at', to_date(from_unixtime(col('created_at')))) \\\n",
    "                 .withColumn('project_id', \\\n",
    "                              when(col('campaign_name').rlike(pattern), regexp_extract('campaign_name', pattern, 1)) \\\n",
    "                                 .otherwise(col('campaign_name')))\n",
    "df_processed.show(5)"
   ]
  },
  {
   "cell_type": "markdown",
   "metadata": {},
   "source": [
    "List of unique projects"
   ]
  },
  {
   "cell_type": "code",
   "execution_count": 48,
   "metadata": {},
   "outputs": [
    {
     "name": "stdout",
     "output_type": "stream",
     "text": [
      "List of unique projects: ['AZa', 'KNi', 'Malformed Advertising ID', 'IPs', 'TRi', 'Invalid Signature', 'NGi', 'NGa', 'японские кроссворды']\n"
     ]
    }
   ],
   "source": [
    "project_list = df_processed.select('project_id').distinct().toPandas()['project_id'].tolist()\n",
    "print(f'List of unique projects: {project_list}')"
   ]
  },
  {
   "cell_type": "markdown",
   "metadata": {},
   "source": [
    "a. Return a list of project ids and their earliest recorded event time"
   ]
  },
  {
   "cell_type": "code",
   "execution_count": 49,
   "metadata": {},
   "outputs": [
    {
     "name": "stdout",
     "output_type": "stream",
     "text": [
      "+--------------------+----------+\n",
      "|          project_id|created_at|\n",
      "+--------------------+----------+\n",
      "|                 TRi|2024-02-12|\n",
      "|                 KNi|2024-04-09|\n",
      "|                 NGi|2024-05-04|\n",
      "|                 NGa|2024-05-06|\n",
      "|                 AZa|2024-05-14|\n",
      "|                 IPs|2024-06-03|\n",
      "|Malformed Adverti...|2024-07-01|\n",
      "|   Invalid Signature|2024-07-01|\n",
      "| японские кроссворды|2024-07-01|\n",
      "+--------------------+----------+\n",
      "\n",
      "[{'project_id': 'TRi', 'created_at': datetime.date(2024, 2, 12)}, {'project_id': 'KNi', 'created_at': datetime.date(2024, 4, 9)}, {'project_id': 'NGi', 'created_at': datetime.date(2024, 5, 4)}, {'project_id': 'NGa', 'created_at': datetime.date(2024, 5, 6)}, {'project_id': 'AZa', 'created_at': datetime.date(2024, 5, 14)}, {'project_id': 'IPs', 'created_at': datetime.date(2024, 6, 3)}, {'project_id': 'Malformed Advertising ID', 'created_at': datetime.date(2024, 7, 1)}, {'project_id': 'Invalid Signature', 'created_at': datetime.date(2024, 7, 1)}, {'project_id': 'японские кроссворды', 'created_at': datetime.date(2024, 7, 1)}]\n"
     ]
    }
   ],
   "source": [
    "df_processed.groupBy('project_id').agg(min('created_at').alias('created_at')).orderBy('created_at').show()\n",
    "\n",
    "df_a = df_processed.groupBy('project_id').agg(min('created_at').alias('created_at')).orderBy('created_at')\n",
    "list_project_ids_event_time = df_a.toPandas().to_dict('records')\n",
    "print(list_project_ids_event_time)"
   ]
  },
  {
   "cell_type": "markdown",
   "metadata": {},
   "source": [
    "b. Return a list of all project ids transactions sorted by number of events"
   ]
  },
  {
   "cell_type": "code",
   "execution_count": 50,
   "metadata": {},
   "outputs": [
    {
     "name": "stdout",
     "output_type": "stream",
     "text": [
      "+--------------------+---------------+\n",
      "|          project_id|transaction_num|\n",
      "+--------------------+---------------+\n",
      "|                 TRi|          99560|\n",
      "|                 NGa|          63403|\n",
      "|                 KNi|          31097|\n",
      "|                 NGi|          13917|\n",
      "|                 IPs|            263|\n",
      "|   Invalid Signature|            256|\n",
      "|                 AZa|            201|\n",
      "| японские кроссворды|             56|\n",
      "|Malformed Adverti...|              8|\n",
      "+--------------------+---------------+\n",
      "\n",
      "[{'project_id': 'TRi', 'transaction_num': 99560}, {'project_id': 'NGa', 'transaction_num': 63403}, {'project_id': 'KNi', 'transaction_num': 31097}, {'project_id': 'NGi', 'transaction_num': 13917}, {'project_id': 'IPs', 'transaction_num': 263}, {'project_id': 'Invalid Signature', 'transaction_num': 256}, {'project_id': 'AZa', 'transaction_num': 201}, {'project_id': 'японские кроссворды', 'transaction_num': 56}, {'project_id': 'Malformed Advertising ID', 'transaction_num': 8}]\n"
     ]
    }
   ],
   "source": [
    "df_processed.groupBy('project_id').count().withColumnRenamed('count','transaction_num').orderBy(desc('transaction_num')).show()\n",
    "\n",
    "df_b = df_processed.groupBy('project_id').count().withColumnRenamed('count','transaction_num').orderBy(desc('transaction_num'))\n",
    "list_project_ids_transactions_num = df_b.toPandas().to_dict('records')\n",
    "print(list_project_ids_transactions_num)"
   ]
  },
  {
   "cell_type": "markdown",
   "metadata": {},
   "source": [
    "---"
   ]
  },
  {
   "cell_type": "code",
   "execution_count": 51,
   "metadata": {},
   "outputs": [],
   "source": [
    "spark.stop()"
   ]
  }
 ],
 "metadata": {
  "kernelspec": {
   "display_name": "spark",
   "language": "python",
   "name": "python3"
  },
  "language_info": {
   "codemirror_mode": {
    "name": "ipython",
    "version": 3
   },
   "file_extension": ".py",
   "mimetype": "text/x-python",
   "name": "python",
   "nbconvert_exporter": "python",
   "pygments_lexer": "ipython3",
   "version": "3.9.0"
  }
 },
 "nbformat": 4,
 "nbformat_minor": 2
}
